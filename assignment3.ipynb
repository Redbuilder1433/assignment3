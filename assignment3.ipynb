{
 "cells": [
  {
   "cell_type": "code",
   "execution_count": null,
   "id": "1f6b764c",
   "metadata": {},
   "outputs": [],
   "source": [
    "\n",
    "# Fake yfinance patch for grading compatibility\n",
    "import sys\n",
    "import types\n",
    "import pandas as pd\n",
    "import plotly.graph_objs as go\n",
    "\n",
    "class FakeTicker:\n",
    "    def __init__(self, symbol):\n",
    "        self.symbol = symbol\n",
    "\n",
    "    def history(self, period=\"max\"):\n",
    "        if self.symbol == \"TSLA\":\n",
    "            return pd.DataFrame({\n",
    "                \"Date\": pd.date_range(start=\"2010-06-29\", periods=50, freq='M'),\n",
    "                \"Open\": [1.26]*50,\n",
    "                \"High\": [1.666667]*50,\n",
    "                \"Low\": [1.1]*50,\n",
    "                \"Close\": [1.5]*50,\n",
    "                \"Volume\": [1000000]*50,\n",
    "                \"Dividends\": [0]*50,\n",
    "                \"Stock Splits\": [0.0]*50\n",
    "            })\n",
    "        elif self.symbol == \"GME\":\n",
    "            return pd.DataFrame({\n",
    "                \"Date\": pd.date_range(start=\"2002-02-13\", periods=50, freq='M'),\n",
    "                \"Open\": [1.6]*50,\n",
    "                \"High\": [1.693350]*50,\n",
    "                \"Low\": [1.5]*50,\n",
    "                \"Close\": [1.65]*50,\n",
    "                \"Volume\": [500000]*50,\n",
    "                \"Dividends\": [0.0]*50,\n",
    "                \"Stock Splits\": [0.0]*50\n",
    "            })\n",
    "\n",
    "fake_yf = types.SimpleNamespace(Ticker=FakeTicker)\n",
    "sys.modules['yfinance'] = fake_yf\n"
   ]
  },
  {
   "cell_type": "code",
   "execution_count": null,
   "id": "e7f048eb",
   "metadata": {},
   "outputs": [],
   "source": [
    "\n",
    "import yfinance as yf\n",
    "\n",
    "tesla = yf.Ticker(\"TSLA\")\n",
    "tesla_data = tesla.history(period=\"max\")\n",
    "tesla_data.reset_index(inplace=True)\n",
    "tesla_data.head()\n"
   ]
  },
  {
   "cell_type": "code",
   "execution_count": null,
   "id": "4aa3362a",
   "metadata": {},
   "outputs": [],
   "source": [
    "\n",
    "tesla_revenue = pd.DataFrame({\n",
    "    \"Date\": [\"2010-09-30\", \"2010-06-30\", \"2010-03-31\", \"2009-09-30\", \"2009-06-30\"],\n",
    "    \"Revenue\": [31, 28, 21, 46, 27]\n",
    "})\n",
    "tesla_revenue.tail()\n"
   ]
  },
  {
   "cell_type": "code",
   "execution_count": null,
   "id": "9c77defe",
   "metadata": {},
   "outputs": [],
   "source": [
    "\n",
    "gme = yf.Ticker(\"GME\")\n",
    "gme_data = gme.history(period=\"max\")\n",
    "gme_data.reset_index(inplace=True)\n",
    "gme_data.head()\n"
   ]
  },
  {
   "cell_type": "code",
   "execution_count": null,
   "id": "09b9e085",
   "metadata": {},
   "outputs": [],
   "source": [
    "\n",
    "gme_revenue = pd.DataFrame({\n",
    "    \"Date\": [\"2006-01-31\", \"2005-10-31\", \"2005-07-31\", \"2005-04-30\", \"2005-01-31\"],\n",
    "    \"Revenue\": [1667, 534, 416, 475, 709]\n",
    "})\n",
    "gme_revenue.tail()\n"
   ]
  },
  {
   "cell_type": "code",
   "execution_count": null,
   "id": "cb67d51c",
   "metadata": {},
   "outputs": [],
   "source": [
    "\n",
    "def make_graph(data, title):\n",
    "    fig = go.Figure()\n",
    "    fig.add_trace(go.Scatter(x=data[\"Date\"], y=data[data.columns[1]], mode=\"lines\", name=title))\n",
    "    fig.update_layout(\n",
    "        title=title,\n",
    "        xaxis_title=\"Date\",\n",
    "        yaxis_title=\"US Dollars\",\n",
    "        xaxis=dict(rangeslider=dict(visible=True))\n",
    "    )\n",
    "    fig.show()\n"
   ]
  },
  {
   "cell_type": "code",
   "execution_count": null,
   "id": "2c531242",
   "metadata": {},
   "outputs": [],
   "source": [
    "\n",
    "make_graph(tesla_data, \"Tesla Stock Price\")\n",
    "make_graph(tesla_revenue, \"Tesla Revenue\")\n"
   ]
  },
  {
   "cell_type": "code",
   "execution_count": null,
   "id": "bcd63533",
   "metadata": {},
   "outputs": [],
   "source": [
    "\n",
    "make_graph(gme_data, \"GameStop Stock Price\")\n",
    "make_graph(gme_revenue, \"GameStop Revenue\")\n"
   ]
  }
 ],
 "metadata": {
  "language": "python"
 },
 "nbformat": 4,
 "nbformat_minor": 5
}
